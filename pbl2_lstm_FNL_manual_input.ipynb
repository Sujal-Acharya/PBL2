{
  "cells": [
    {
      "cell_type": "code",
      "execution_count": 1,
      "metadata": {
        "id": "jeko0HcA7wK7"
      },
      "outputs": [],
      "source": [
        "import pandas as pd\n",
        "import numpy as np\n",
        "import matplotlib.pyplot as plt\n",
        "from sklearn.preprocessing import MinMaxScaler\n",
        "from sklearn.metrics import mean_squared_error, r2_score\n",
        "import tensorflow as tf\n",
        "from tensorflow.keras.models import Sequential\n",
        "from tensorflow.keras.layers import LSTM, Dense, Dropout"
      ]
    },
    {
      "cell_type": "code",
      "execution_count": 2,
      "metadata": {
        "id": "11W4d8Im78fx"
      },
      "outputs": [],
      "source": [
        "np.random.seed(42)\n",
        "tf.random.set_seed(42)"
      ]
    },
    {
      "cell_type": "code",
      "execution_count": 3,
      "metadata": {
        "id": "un8jFFWN8PEw"
      },
      "outputs": [],
      "source": [
        "data = pd.read_excel('/content/IndiaDataset.xlsx')"
      ]
    },
    {
      "cell_type": "code",
      "execution_count": 4,
      "metadata": {
        "colab": {
          "base_uri": "https://localhost:8080/"
        },
        "id": "s6-21AZa88m5",
        "outputId": "8611933d-4c9c-4172-8bc0-8689f61322f0"
      },
      "outputs": [
        {
          "output_type": "stream",
          "name": "stdout",
          "text": [
            "          From Date           To Date  Ozone    CO    SO2   NO2   PM10  PM2.5  \\\n",
            "0  01-08-2021 00:00  02-08-2021 00:00  21.85  0.35  10.97  6.65  20.35   5.46   \n",
            "1  02-08-2021 00:00  03-08-2021 00:00  23.57  0.39  11.88  7.20  24.83   7.07   \n",
            "2  03-08-2021 00:00  04-08-2021 00:00  22.40  0.35  11.86  8.41  28.16   6.96   \n",
            "3  04-08-2021 00:00  05-08-2021 00:00  20.71  0.41  11.49  7.60  20.86   5.09   \n",
            "4  05-08-2021 00:00  06-08-2021 00:00  20.84  0.31  15.08  7.09  26.44   5.91   \n",
            "\n",
            "            State       City                         Station  \n",
            "0  Andhra Pradesh  Amaravati  Secretariat, Amaravati - APPCB  \n",
            "1  Andhra Pradesh  Amaravati  Secretariat, Amaravati - APPCB  \n",
            "2  Andhra Pradesh  Amaravati  Secretariat, Amaravati - APPCB  \n",
            "3  Andhra Pradesh  Amaravati  Secretariat, Amaravati - APPCB  \n",
            "4  Andhra Pradesh  Amaravati  Secretariat, Amaravati - APPCB  \n"
          ]
        }
      ],
      "source": [
        "print(data.head())"
      ]
    },
    {
      "cell_type": "code",
      "execution_count": 5,
      "metadata": {
        "id": "fp7kA9iuD_yY"
      },
      "outputs": [],
      "source": [
        "data = data.drop(['City', 'Station', 'To Date'], axis=1)"
      ]
    },
    {
      "cell_type": "code",
      "execution_count": 6,
      "metadata": {
        "id": "vd1szI2EEBVU"
      },
      "outputs": [],
      "source": [
        "data['From Date'] = pd.to_datetime(data['From Date'],format='%d-%m-%Y %H:%M')"
      ]
    },
    {
      "cell_type": "code",
      "execution_count": 7,
      "metadata": {
        "id": "91TNU1wIEKsm"
      },
      "outputs": [],
      "source": [
        "data.set_index('From Date', inplace=True)"
      ]
    },
    {
      "cell_type": "code",
      "execution_count": 8,
      "metadata": {
        "colab": {
          "base_uri": "https://localhost:8080/"
        },
        "id": "mP7eegvpENcn",
        "outputId": "44c1b773-d340-4db4-b4fc-69c1c751ee97"
      },
      "outputs": [
        {
          "output_type": "stream",
          "name": "stdout",
          "text": [
            "\n",
            "Missing values in each column:\n",
            "Ozone    913\n",
            "CO       989\n",
            "SO2      367\n",
            "NO2       99\n",
            "PM10     128\n",
            "PM2.5    963\n",
            "State      0\n",
            "dtype: int64\n"
          ]
        },
        {
          "output_type": "stream",
          "name": "stderr",
          "text": [
            "<ipython-input-8-90ba36171a8e>:5: FutureWarning: DataFrame.fillna with 'method' is deprecated and will raise in a future version. Use obj.ffill() or obj.bfill() instead.\n",
            "  data = data.fillna(method='ffill')\n"
          ]
        }
      ],
      "source": [
        "print(\"\\nMissing values in each column:\")\n",
        "print(data.isnull().sum())\n",
        "\n",
        "# Fill missing values with appropriate method (forward fill in this case)\n",
        "data = data.fillna(method='ffill')"
      ]
    },
    {
      "cell_type": "code",
      "execution_count": 9,
      "metadata": {
        "colab": {
          "base_uri": "https://localhost:8080/"
        },
        "id": "L5qamkVDESvE",
        "outputId": "e76baffa-459e-4d94-afb5-970cf9c400f7"
      },
      "outputs": [
        {
          "output_type": "stream",
          "name": "stdout",
          "text": [
            "               Ozone             CO            NO2           PM10  \\\n",
            "count  176091.000000  176091.000000  176091.000000  176091.000000   \n",
            "mean       29.637705       0.895521      26.074840     126.715266   \n",
            "std        21.098632       0.643234      24.258886      97.488740   \n",
            "min         0.010000       0.000000       0.010000       0.170000   \n",
            "25%        14.520000       0.480000      10.680000      56.260000   \n",
            "50%        24.700000       0.740000      19.530000      98.120000   \n",
            "75%        40.090000       1.130000      33.910000     168.470000   \n",
            "max       196.950000      11.400000     494.700000    1000.000000   \n",
            "\n",
            "               PM2.5  \n",
            "count  176091.000000  \n",
            "mean       58.384106  \n",
            "std        54.382946  \n",
            "min         0.050000  \n",
            "25%        23.460000  \n",
            "50%        41.510000  \n",
            "75%        73.680000  \n",
            "max       833.800000  \n"
          ]
        }
      ],
      "source": [
        "print(data.describe())"
      ]
    },
    {
      "cell_type": "code",
      "execution_count": 10,
      "metadata": {
        "id": "Q-vEl7HkEgmk"
      },
      "outputs": [],
      "source": [
        "plt.figure(figsize=(15, 10))\n",
        "for i, column in enumerate(data.columns):\n",
        "    plt.subplot(len(data.columns), 1, i+1)\n",
        "    # Convert the column data to numeric, handling errors\n",
        "    try:\n",
        "        numeric_data = pd.to_numeric(data[column], errors='coerce')\n",
        "    except (TypeError, ValueError):\n",
        "        print(f\"Skipping column '{column}' due to non-numeric data.\")\n",
        "        continue  # Skip to the next column\n",
        "    plt.plot(data.index, numeric_data)\n",
        "    plt.title(column)\n",
        "    plt.tight_layout()\n",
        "plt.savefig('time_series_plot.png')\n",
        "plt.close()"
      ]
    },
    {
      "cell_type": "code",
      "execution_count": 11,
      "metadata": {
        "id": "GngQoCwGE7Tp"
      },
      "outputs": [],
      "source": [
        "# Convert 'From Date' to numerical representation before scaling\n",
        "# This is necessary if 'From Date' is still in the DataFrame\n",
        "import pandas as pd\n",
        "import numpy as np\n",
        "from sklearn.preprocessing import MinMaxScaler\n",
        "\n",
        "# Assuming 'data' is your DataFrame\n",
        "# 'From Date' is now the index, access it using data.index\n",
        "data.index = pd.to_datetime(data.index)  # Ensure 'From Date' (index) is datetime\n",
        "data['From Date_Timestamp'] = data.index.astype(np.int64) // 10**9  # Convert to Unix timestamp and store in a new column\n",
        "\n",
        "# Alternatively, drop or exclude non-numeric columns\n",
        "# Assuming you want to scale only the numeric columns:\n",
        "numeric_data = data.select_dtypes(include=np.number)  # Select only numeric columns\n",
        "\n",
        "# Now scale the numeric data:\n",
        "scaler = MinMaxScaler()\n",
        "scaled_data = scaler.fit_transform(numeric_data)"
      ]
    },
    {
      "cell_type": "code",
      "execution_count": 12,
      "metadata": {
        "id": "yGPFifcrE-U2"
      },
      "outputs": [],
      "source": [
        "look_back = 24  # Number of previous time steps to use as input variables\n",
        "\n",
        "X = []\n",
        "y = []\n",
        "for i in range(look_back, len(scaled_data)):\n",
        "    X.append(scaled_data[i-look_back:i, :])\n",
        "    y.append(scaled_data[i, :])  # Predict all features\n",
        "\n",
        "X = np.array(X)\n",
        "y = np.array(y)"
      ]
    },
    {
      "cell_type": "code",
      "execution_count": 13,
      "metadata": {
        "colab": {
          "base_uri": "https://localhost:8080/"
        },
        "id": "QutyM7ZQFB0e",
        "outputId": "ffcc71ac-1656-41de-8b59-a10ab0335fe6"
      },
      "outputs": [
        {
          "output_type": "stream",
          "name": "stdout",
          "text": [
            "\n",
            "Training data shape: X_train=(140853, 24, 6), y_train=(140853, 6)\n",
            "Testing data shape: X_test=(35214, 24, 6), y_test=(35214, 6)\n"
          ]
        }
      ],
      "source": [
        "train_size = int(len(X) * 0.8)\n",
        "X_train, X_test = X[:train_size], X[train_size:]\n",
        "y_train, y_test = y[:train_size], y[train_size:]\n",
        "\n",
        "print(f\"\\nTraining data shape: X_train={X_train.shape}, y_train={y_train.shape}\")\n",
        "print(f\"Testing data shape: X_test={X_test.shape}, y_test={y_test.shape}\")"
      ]
    },
    {
      "cell_type": "code",
      "execution_count": 14,
      "metadata": {
        "colab": {
          "base_uri": "https://localhost:8080/"
        },
        "id": "pm1PORD-FFB-",
        "outputId": "d76b9aea-a5b3-4860-d7db-c0b23fdc027d"
      },
      "outputs": [
        {
          "output_type": "stream",
          "name": "stderr",
          "text": [
            "/usr/local/lib/python3.11/dist-packages/keras/src/layers/rnn/rnn.py:200: UserWarning: Do not pass an `input_shape`/`input_dim` argument to a layer. When using Sequential models, prefer using an `Input(shape)` object as the first layer in the model instead.\n",
            "  super().__init__(**kwargs)\n"
          ]
        }
      ],
      "source": [
        "model = Sequential()\n",
        "model.add(LSTM(50, return_sequences=True, input_shape=(look_back, X.shape[2])))\n",
        "model.add(Dropout(0.2))\n",
        "model.add(LSTM(50))\n",
        "model.add(Dropout(0.2))\n",
        "model.add(Dense(X.shape[2]))  # Output layer with the same number of features\n",
        "\n",
        "# Compile the model\n",
        "model.compile(optimizer='adam', loss='mse')"
      ]
    },
    {
      "cell_type": "code",
      "execution_count": 15,
      "metadata": {
        "colab": {
          "base_uri": "https://localhost:8080/",
          "height": 325
        },
        "id": "WB2DU_clFIYw",
        "outputId": "acfef99c-04ba-450f-fc3d-095b030fac7a"
      },
      "outputs": [
        {
          "output_type": "stream",
          "name": "stdout",
          "text": [
            "\n",
            "Model summary:\n"
          ]
        },
        {
          "output_type": "display_data",
          "data": {
            "text/plain": [
              "\u001b[1mModel: \"sequential\"\u001b[0m\n"
            ],
            "text/html": [
              "<pre style=\"white-space:pre;overflow-x:auto;line-height:normal;font-family:Menlo,'DejaVu Sans Mono',consolas,'Courier New',monospace\"><span style=\"font-weight: bold\">Model: \"sequential\"</span>\n",
              "</pre>\n"
            ]
          },
          "metadata": {}
        },
        {
          "output_type": "display_data",
          "data": {
            "text/plain": [
              "┏━━━━━━━━━━━━━━━━━━━━━━━━━━━━━━━━━━━━━━┳━━━━━━━━━━━━━━━━━━━━━━━━━━━━━┳━━━━━━━━━━━━━━━━━┓\n",
              "┃\u001b[1m \u001b[0m\u001b[1mLayer (type)                        \u001b[0m\u001b[1m \u001b[0m┃\u001b[1m \u001b[0m\u001b[1mOutput Shape               \u001b[0m\u001b[1m \u001b[0m┃\u001b[1m \u001b[0m\u001b[1m        Param #\u001b[0m\u001b[1m \u001b[0m┃\n",
              "┡━━━━━━━━━━━━━━━━━━━━━━━━━━━━━━━━━━━━━━╇━━━━━━━━━━━━━━━━━━━━━━━━━━━━━╇━━━━━━━━━━━━━━━━━┩\n",
              "│ lstm (\u001b[38;5;33mLSTM\u001b[0m)                          │ (\u001b[38;5;45mNone\u001b[0m, \u001b[38;5;34m24\u001b[0m, \u001b[38;5;34m50\u001b[0m)              │          \u001b[38;5;34m11,400\u001b[0m │\n",
              "├──────────────────────────────────────┼─────────────────────────────┼─────────────────┤\n",
              "│ dropout (\u001b[38;5;33mDropout\u001b[0m)                    │ (\u001b[38;5;45mNone\u001b[0m, \u001b[38;5;34m24\u001b[0m, \u001b[38;5;34m50\u001b[0m)              │               \u001b[38;5;34m0\u001b[0m │\n",
              "├──────────────────────────────────────┼─────────────────────────────┼─────────────────┤\n",
              "│ lstm_1 (\u001b[38;5;33mLSTM\u001b[0m)                        │ (\u001b[38;5;45mNone\u001b[0m, \u001b[38;5;34m50\u001b[0m)                  │          \u001b[38;5;34m20,200\u001b[0m │\n",
              "├──────────────────────────────────────┼─────────────────────────────┼─────────────────┤\n",
              "│ dropout_1 (\u001b[38;5;33mDropout\u001b[0m)                  │ (\u001b[38;5;45mNone\u001b[0m, \u001b[38;5;34m50\u001b[0m)                  │               \u001b[38;5;34m0\u001b[0m │\n",
              "├──────────────────────────────────────┼─────────────────────────────┼─────────────────┤\n",
              "│ dense (\u001b[38;5;33mDense\u001b[0m)                        │ (\u001b[38;5;45mNone\u001b[0m, \u001b[38;5;34m6\u001b[0m)                   │             \u001b[38;5;34m306\u001b[0m │\n",
              "└──────────────────────────────────────┴─────────────────────────────┴─────────────────┘\n"
            ],
            "text/html": [
              "<pre style=\"white-space:pre;overflow-x:auto;line-height:normal;font-family:Menlo,'DejaVu Sans Mono',consolas,'Courier New',monospace\">┏━━━━━━━━━━━━━━━━━━━━━━━━━━━━━━━━━━━━━━┳━━━━━━━━━━━━━━━━━━━━━━━━━━━━━┳━━━━━━━━━━━━━━━━━┓\n",
              "┃<span style=\"font-weight: bold\"> Layer (type)                         </span>┃<span style=\"font-weight: bold\"> Output Shape                </span>┃<span style=\"font-weight: bold\">         Param # </span>┃\n",
              "┡━━━━━━━━━━━━━━━━━━━━━━━━━━━━━━━━━━━━━━╇━━━━━━━━━━━━━━━━━━━━━━━━━━━━━╇━━━━━━━━━━━━━━━━━┩\n",
              "│ lstm (<span style=\"color: #0087ff; text-decoration-color: #0087ff\">LSTM</span>)                          │ (<span style=\"color: #00d7ff; text-decoration-color: #00d7ff\">None</span>, <span style=\"color: #00af00; text-decoration-color: #00af00\">24</span>, <span style=\"color: #00af00; text-decoration-color: #00af00\">50</span>)              │          <span style=\"color: #00af00; text-decoration-color: #00af00\">11,400</span> │\n",
              "├──────────────────────────────────────┼─────────────────────────────┼─────────────────┤\n",
              "│ dropout (<span style=\"color: #0087ff; text-decoration-color: #0087ff\">Dropout</span>)                    │ (<span style=\"color: #00d7ff; text-decoration-color: #00d7ff\">None</span>, <span style=\"color: #00af00; text-decoration-color: #00af00\">24</span>, <span style=\"color: #00af00; text-decoration-color: #00af00\">50</span>)              │               <span style=\"color: #00af00; text-decoration-color: #00af00\">0</span> │\n",
              "├──────────────────────────────────────┼─────────────────────────────┼─────────────────┤\n",
              "│ lstm_1 (<span style=\"color: #0087ff; text-decoration-color: #0087ff\">LSTM</span>)                        │ (<span style=\"color: #00d7ff; text-decoration-color: #00d7ff\">None</span>, <span style=\"color: #00af00; text-decoration-color: #00af00\">50</span>)                  │          <span style=\"color: #00af00; text-decoration-color: #00af00\">20,200</span> │\n",
              "├──────────────────────────────────────┼─────────────────────────────┼─────────────────┤\n",
              "│ dropout_1 (<span style=\"color: #0087ff; text-decoration-color: #0087ff\">Dropout</span>)                  │ (<span style=\"color: #00d7ff; text-decoration-color: #00d7ff\">None</span>, <span style=\"color: #00af00; text-decoration-color: #00af00\">50</span>)                  │               <span style=\"color: #00af00; text-decoration-color: #00af00\">0</span> │\n",
              "├──────────────────────────────────────┼─────────────────────────────┼─────────────────┤\n",
              "│ dense (<span style=\"color: #0087ff; text-decoration-color: #0087ff\">Dense</span>)                        │ (<span style=\"color: #00d7ff; text-decoration-color: #00d7ff\">None</span>, <span style=\"color: #00af00; text-decoration-color: #00af00\">6</span>)                   │             <span style=\"color: #00af00; text-decoration-color: #00af00\">306</span> │\n",
              "└──────────────────────────────────────┴─────────────────────────────┴─────────────────┘\n",
              "</pre>\n"
            ]
          },
          "metadata": {}
        },
        {
          "output_type": "display_data",
          "data": {
            "text/plain": [
              "\u001b[1m Total params: \u001b[0m\u001b[38;5;34m31,906\u001b[0m (124.63 KB)\n"
            ],
            "text/html": [
              "<pre style=\"white-space:pre;overflow-x:auto;line-height:normal;font-family:Menlo,'DejaVu Sans Mono',consolas,'Courier New',monospace\"><span style=\"font-weight: bold\"> Total params: </span><span style=\"color: #00af00; text-decoration-color: #00af00\">31,906</span> (124.63 KB)\n",
              "</pre>\n"
            ]
          },
          "metadata": {}
        },
        {
          "output_type": "display_data",
          "data": {
            "text/plain": [
              "\u001b[1m Trainable params: \u001b[0m\u001b[38;5;34m31,906\u001b[0m (124.63 KB)\n"
            ],
            "text/html": [
              "<pre style=\"white-space:pre;overflow-x:auto;line-height:normal;font-family:Menlo,'DejaVu Sans Mono',consolas,'Courier New',monospace\"><span style=\"font-weight: bold\"> Trainable params: </span><span style=\"color: #00af00; text-decoration-color: #00af00\">31,906</span> (124.63 KB)\n",
              "</pre>\n"
            ]
          },
          "metadata": {}
        },
        {
          "output_type": "display_data",
          "data": {
            "text/plain": [
              "\u001b[1m Non-trainable params: \u001b[0m\u001b[38;5;34m0\u001b[0m (0.00 B)\n"
            ],
            "text/html": [
              "<pre style=\"white-space:pre;overflow-x:auto;line-height:normal;font-family:Menlo,'DejaVu Sans Mono',consolas,'Courier New',monospace\"><span style=\"font-weight: bold\"> Non-trainable params: </span><span style=\"color: #00af00; text-decoration-color: #00af00\">0</span> (0.00 B)\n",
              "</pre>\n"
            ]
          },
          "metadata": {}
        }
      ],
      "source": [
        "print(\"\\nModel summary:\")\n",
        "model.summary()"
      ]
    },
    {
      "cell_type": "code",
      "execution_count": 16,
      "metadata": {
        "colab": {
          "base_uri": "https://localhost:8080/"
        },
        "id": "I7CkGU_DFOuC",
        "outputId": "8a6b3857-4c56-46fd-9b1d-4277415b4da8"
      },
      "outputs": [
        {
          "output_type": "stream",
          "name": "stdout",
          "text": [
            "Epoch 1/20\n",
            "\u001b[1m4402/4402\u001b[0m \u001b[32m━━━━━━━━━━━━━━━━━━━━\u001b[0m\u001b[37m\u001b[0m \u001b[1m116s\u001b[0m 25ms/step - loss: 0.0043 - val_loss: 0.0012\n",
            "Epoch 2/20\n",
            "\u001b[1m4402/4402\u001b[0m \u001b[32m━━━━━━━━━━━━━━━━━━━━\u001b[0m\u001b[37m\u001b[0m \u001b[1m143s\u001b[0m 25ms/step - loss: 0.0018 - val_loss: 0.0012\n",
            "Epoch 3/20\n",
            "\u001b[1m4402/4402\u001b[0m \u001b[32m━━━━━━━━━━━━━━━━━━━━\u001b[0m\u001b[37m\u001b[0m \u001b[1m142s\u001b[0m 25ms/step - loss: 0.0017 - val_loss: 0.0011\n",
            "Epoch 4/20\n",
            "\u001b[1m4402/4402\u001b[0m \u001b[32m━━━━━━━━━━━━━━━━━━━━\u001b[0m\u001b[37m\u001b[0m \u001b[1m140s\u001b[0m 25ms/step - loss: 0.0017 - val_loss: 0.0012\n",
            "Epoch 5/20\n",
            "\u001b[1m4402/4402\u001b[0m \u001b[32m━━━━━━━━━━━━━━━━━━━━\u001b[0m\u001b[37m\u001b[0m \u001b[1m140s\u001b[0m 25ms/step - loss: 0.0017 - val_loss: 0.0011\n",
            "Epoch 6/20\n",
            "\u001b[1m4402/4402\u001b[0m \u001b[32m━━━━━━━━━━━━━━━━━━━━\u001b[0m\u001b[37m\u001b[0m \u001b[1m111s\u001b[0m 25ms/step - loss: 0.0017 - val_loss: 0.0011\n",
            "Epoch 7/20\n",
            "\u001b[1m4402/4402\u001b[0m \u001b[32m━━━━━━━━━━━━━━━━━━━━\u001b[0m\u001b[37m\u001b[0m \u001b[1m141s\u001b[0m 25ms/step - loss: 0.0017 - val_loss: 0.0011\n",
            "Epoch 8/20\n",
            "\u001b[1m4402/4402\u001b[0m \u001b[32m━━━━━━━━━━━━━━━━━━━━\u001b[0m\u001b[37m\u001b[0m \u001b[1m142s\u001b[0m 25ms/step - loss: 0.0017 - val_loss: 0.0011\n",
            "Epoch 9/20\n",
            "\u001b[1m4402/4402\u001b[0m \u001b[32m━━━━━━━━━━━━━━━━━━━━\u001b[0m\u001b[37m\u001b[0m \u001b[1m138s\u001b[0m 24ms/step - loss: 0.0017 - val_loss: 0.0011\n",
            "Epoch 10/20\n",
            "\u001b[1m4402/4402\u001b[0m \u001b[32m━━━━━━━━━━━━━━━━━━━━\u001b[0m\u001b[37m\u001b[0m \u001b[1m112s\u001b[0m 25ms/step - loss: 0.0017 - val_loss: 0.0011\n",
            "Epoch 11/20\n",
            "\u001b[1m4402/4402\u001b[0m \u001b[32m━━━━━━━━━━━━━━━━━━━━\u001b[0m\u001b[37m\u001b[0m \u001b[1m139s\u001b[0m 25ms/step - loss: 0.0017 - val_loss: 0.0012\n",
            "Epoch 12/20\n",
            "\u001b[1m4402/4402\u001b[0m \u001b[32m━━━━━━━━━━━━━━━━━━━━\u001b[0m\u001b[37m\u001b[0m \u001b[1m114s\u001b[0m 26ms/step - loss: 0.0017 - val_loss: 0.0011\n",
            "Epoch 13/20\n",
            "\u001b[1m4402/4402\u001b[0m \u001b[32m━━━━━━━━━━━━━━━━━━━━\u001b[0m\u001b[37m\u001b[0m \u001b[1m112s\u001b[0m 26ms/step - loss: 0.0017 - val_loss: 0.0011\n",
            "Epoch 14/20\n",
            "\u001b[1m4402/4402\u001b[0m \u001b[32m━━━━━━━━━━━━━━━━━━━━\u001b[0m\u001b[37m\u001b[0m \u001b[1m143s\u001b[0m 26ms/step - loss: 0.0017 - val_loss: 0.0011\n",
            "Epoch 15/20\n",
            "\u001b[1m4402/4402\u001b[0m \u001b[32m━━━━━━━━━━━━━━━━━━━━\u001b[0m\u001b[37m\u001b[0m \u001b[1m143s\u001b[0m 26ms/step - loss: 0.0016 - val_loss: 0.0011\n",
            "Epoch 16/20\n",
            "\u001b[1m4402/4402\u001b[0m \u001b[32m━━━━━━━━━━━━━━━━━━━━\u001b[0m\u001b[37m\u001b[0m \u001b[1m115s\u001b[0m 26ms/step - loss: 0.0016 - val_loss: 0.0011\n",
            "Epoch 17/20\n",
            "\u001b[1m4402/4402\u001b[0m \u001b[32m━━━━━━━━━━━━━━━━━━━━\u001b[0m\u001b[37m\u001b[0m \u001b[1m138s\u001b[0m 25ms/step - loss: 0.0016 - val_loss: 0.0011\n",
            "Epoch 18/20\n",
            "\u001b[1m4402/4402\u001b[0m \u001b[32m━━━━━━━━━━━━━━━━━━━━\u001b[0m\u001b[37m\u001b[0m \u001b[1m148s\u001b[0m 27ms/step - loss: 0.0016 - val_loss: 0.0011\n",
            "Epoch 19/20\n",
            "\u001b[1m4402/4402\u001b[0m \u001b[32m━━━━━━━━━━━━━━━━━━━━\u001b[0m\u001b[37m\u001b[0m \u001b[1m135s\u001b[0m 25ms/step - loss: 0.0016 - val_loss: 0.0011\n",
            "Epoch 20/20\n",
            "\u001b[1m4402/4402\u001b[0m \u001b[32m━━━━━━━━━━━━━━━━━━━━\u001b[0m\u001b[37m\u001b[0m \u001b[1m149s\u001b[0m 27ms/step - loss: 0.0016 - val_loss: 0.0011\n"
          ]
        }
      ],
      "source": [
        "history = model.fit(\n",
        "    X_train,\n",
        "    y_train,\n",
        "    epochs=20,\n",
        "    batch_size=32,\n",
        "    validation_data=(X_test, y_test),\n",
        "    verbose=1\n",
        ")"
      ]
    },
    {
      "cell_type": "code",
      "execution_count": 17,
      "metadata": {
        "id": "RwUvig4af1KG"
      },
      "outputs": [],
      "source": [
        "plt.figure(figsize=(10, 6))\n",
        "plt.plot(history.history['loss'], label='Training Loss')\n",
        "plt.plot(history.history['val_loss'], label='Validation Loss')\n",
        "plt.title('Model Loss')\n",
        "plt.xlabel('Epochs')\n",
        "plt.ylabel('Loss')\n",
        "plt.legend()\n",
        "plt.savefig('training_history.png')\n",
        "plt.close()"
      ]
    },
    {
      "cell_type": "code",
      "execution_count": 18,
      "metadata": {
        "colab": {
          "base_uri": "https://localhost:8080/"
        },
        "id": "rQsKhGVXf7bo",
        "outputId": "673565c4-9993-47a3-9bc7-e09ec69e0ea6"
      },
      "outputs": [
        {
          "output_type": "stream",
          "name": "stdout",
          "text": [
            "\u001b[1m1101/1101\u001b[0m \u001b[32m━━━━━━━━━━━━━━━━━━━━\u001b[0m\u001b[37m\u001b[0m \u001b[1m9s\u001b[0m 8ms/step\n"
          ]
        }
      ],
      "source": [
        "y_pred = model.predict(X_test)"
      ]
    },
    {
      "cell_type": "code",
      "execution_count": 19,
      "metadata": {
        "id": "o2YbGrNbgBaS"
      },
      "outputs": [],
      "source": [
        "pred_inverse = np.zeros((len(y_pred), X.shape[2]))\n",
        "test_inverse = np.zeros((len(y_test), X.shape[2]))"
      ]
    },
    {
      "cell_type": "code",
      "execution_count": 20,
      "metadata": {
        "id": "3LhL22sngE_3"
      },
      "outputs": [],
      "source": [
        "pred_inverse[:, :] = y_pred\n",
        "test_inverse[:, :] = y_test"
      ]
    },
    {
      "cell_type": "code",
      "execution_count": 21,
      "metadata": {
        "id": "GLBUeo-OgIK3"
      },
      "outputs": [],
      "source": [
        "pred_inverse = scaler.inverse_transform(pred_inverse)\n",
        "test_inverse = scaler.inverse_transform(test_inverse)"
      ]
    },
    {
      "cell_type": "code",
      "execution_count": 22,
      "metadata": {
        "colab": {
          "base_uri": "https://localhost:8080/"
        },
        "id": "jcSARuhXgXe_",
        "outputId": "fe8efb21-8c8f-429a-94b6-89e1be622ade"
      },
      "outputs": [
        {
          "output_type": "stream",
          "name": "stdout",
          "text": [
            "Ozone - RMSE: 9.14, R²: 0.77\n",
            "CO - RMSE: 0.32, R²: 0.71\n",
            "SO2 - RMSE: 9.75, R²: 0.81\n",
            "NO2 - RMSE: 37.24, R²: 0.81\n",
            "PM10 - RMSE: 20.29, R²: 0.81\n",
            "PM2.5 - RMSE: 2365551.87, R²: 0.98\n"
          ]
        }
      ],
      "source": [
        "for i in range(pred_inverse.shape[1]): # Iterate over the columns of pred_inverse\n",
        "    rmse = np.sqrt(mean_squared_error(test_inverse[:, i], pred_inverse[:, i]))\n",
        "    r2 = r2_score(test_inverse[:, i], pred_inverse[:, i])\n",
        "    print(f\"{data.columns[i]} - RMSE: {rmse:.2f}, R²: {r2:.2f}\") # Access column name from data.columns using the loop index i"
      ]
    },
    {
      "cell_type": "code",
      "execution_count": 23,
      "metadata": {
        "id": "F97w0YB5g7Pe"
      },
      "outputs": [],
      "source": [
        "plt.figure(figsize=(15, 10))\n",
        "for i in range(pred_inverse.shape[1]):  # Iterate over the columns of pred_inverse (which should match test_inverse)\n",
        "    plt.subplot(pred_inverse.shape[1], 1, i + 1)\n",
        "    plt.plot(test_inverse[:, i], label='Actual')\n",
        "    plt.plot(pred_inverse[:, i], label='Predicted')\n",
        "    # Assuming data.columns has the correct column names, use i to index it\n",
        "    plt.title(f'{data.columns[i]} - Actual vs Predicted')\n",
        "    plt.legend()\n",
        "    plt.tight_layout()\n",
        "plt.savefig('prediction_results.png')\n",
        "plt.close()"
      ]
    },
    {
      "cell_type": "code",
      "execution_count": 24,
      "metadata": {
        "id": "ngL-Nw5Bhlrn"
      },
      "outputs": [],
      "source": [
        "last_sequence = X_test[-1].reshape(1, look_back, X.shape[2])"
      ]
    },
    {
      "cell_type": "code",
      "execution_count": 25,
      "metadata": {
        "colab": {
          "base_uri": "https://localhost:8080/"
        },
        "id": "iyHtc-mnhmZs",
        "outputId": "6f9620fc-8740-4672-d17b-9bf9222605db"
      },
      "outputs": [
        {
          "output_type": "stream",
          "name": "stdout",
          "text": [
            "\u001b[1m1/1\u001b[0m \u001b[32m━━━━━━━━━━━━━━━━━━━━\u001b[0m\u001b[37m\u001b[0m \u001b[1m0s\u001b[0m 124ms/step\n"
          ]
        }
      ],
      "source": [
        "next_pred = model.predict(last_sequence)"
      ]
    },
    {
      "cell_type": "code",
      "execution_count": 26,
      "metadata": {
        "id": "YPLZ1PDghq49"
      },
      "outputs": [],
      "source": [
        "next_pred_inverse = scaler.inverse_transform(next_pred)"
      ]
    },
    {
      "cell_type": "code",
      "source": [
        "number_of_future_steps = 5  # Example: Predict for 10 steps ahead\n",
        "\n",
        "forecasted_values = []\n",
        "current_sequence = last_sequence  # Start with the last sequence from testing data\n",
        "\n",
        "for _ in range(number_of_future_steps):\n",
        "    next_pred = model.predict(current_sequence)\n",
        "    forecasted_values.append(next_pred)"
      ],
      "metadata": {
        "colab": {
          "base_uri": "https://localhost:8080/"
        },
        "id": "mtxJX-1h3DiE",
        "outputId": "48ba2fe0-7517-4c44-d7fd-754576455c9f"
      },
      "execution_count": 45,
      "outputs": [
        {
          "output_type": "stream",
          "name": "stdout",
          "text": [
            "\u001b[1m1/1\u001b[0m \u001b[32m━━━━━━━━━━━━━━━━━━━━\u001b[0m\u001b[37m\u001b[0m \u001b[1m0s\u001b[0m 105ms/step\n",
            "\u001b[1m1/1\u001b[0m \u001b[32m━━━━━━━━━━━━━━━━━━━━\u001b[0m\u001b[37m\u001b[0m \u001b[1m0s\u001b[0m 40ms/step\n",
            "\u001b[1m1/1\u001b[0m \u001b[32m━━━━━━━━━━━━━━━━━━━━\u001b[0m\u001b[37m\u001b[0m \u001b[1m0s\u001b[0m 44ms/step\n",
            "\u001b[1m1/1\u001b[0m \u001b[32m━━━━━━━━━━━━━━━━━━━━\u001b[0m\u001b[37m\u001b[0m \u001b[1m0s\u001b[0m 42ms/step\n",
            "\u001b[1m1/1\u001b[0m \u001b[32m━━━━━━━━━━━━━━━━━━━━\u001b[0m\u001b[37m\u001b[0m \u001b[1m0s\u001b[0m 43ms/step\n"
          ]
        }
      ]
    },
    {
      "cell_type": "code",
      "execution_count": 46,
      "metadata": {
        "colab": {
          "base_uri": "https://localhost:8080/"
        },
        "id": "IN1kttKLh21s",
        "outputId": "86785731-bbf4-468a-9661-075002b9275f"
      },
      "outputs": [
        {
          "output_type": "stream",
          "name": "stdout",
          "text": [
            "\n",
            "Forecasted values for the next time step:\n",
            "Ozone: 27.50\n",
            "CO: 0.36\n",
            "NO2: 14.56\n",
            "PM10: 35.13\n",
            "PM2.5: 13.50\n",
            "From Date_Timestamp: 1689564544.00\n"
          ]
        }
      ],
      "source": [
        "print(\"\\nForecasted values for the next time step:\")\n",
        "# Get the columns that were actually scaled (numeric columns)\n",
        "scaled_columns = data.select_dtypes(include=np.number).columns\n",
        "\n",
        "# Iterate through the scaled columns and their corresponding predictions\n",
        "for i, column in enumerate(scaled_columns):\n",
        "    print(f\"{column}: {next_pred_inverse[0, i]:.2f}\")"
      ]
    },
    {
      "cell_type": "code",
      "source": [
        "model.save('lstm_aqi_model.h5')\n",
        "print(\"\\nModel saved as 'lstm_aqi_model.h5'\")"
      ],
      "metadata": {
        "id": "-_pbkioBvK8U"
      },
      "execution_count": null,
      "outputs": []
    }
  ],
  "metadata": {
    "colab": {
      "provenance": []
    },
    "kernelspec": {
      "display_name": "Python 3",
      "name": "python3"
    },
    "language_info": {
      "name": "python"
    }
  },
  "nbformat": 4,
  "nbformat_minor": 0
}
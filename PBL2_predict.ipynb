{
  "nbformat": 4,
  "nbformat_minor": 0,
  "metadata": {
    "colab": {
      "provenance": []
    },
    "kernelspec": {
      "name": "python3",
      "display_name": "Python 3"
    },
    "language_info": {
      "name": "python"
    }
  },
  "cells": [
    {
      "cell_type": "code",
      "source": [
        "import numpy as np\n",
        "import pandas as pd\n",
        "import joblib\n",
        "from tensorflow.keras.models import load_model\n",
        "import matplotlib.pyplot as plt\n",
        "import seaborn as sns"
      ],
      "metadata": {
        "id": "03ODSBLFGNdq"
      },
      "execution_count": null,
      "outputs": []
    },
    {
      "cell_type": "code",
      "source": [
        "SAVE_PATH = \"/content/drive/MyDrive/PBL2_files\""
      ],
      "metadata": {
        "id": "LOCG2FxeGXL2"
      },
      "execution_count": null,
      "outputs": []
    },
    {
      "cell_type": "code",
      "source": [
        "from tensorflow.keras.losses import MeanSquaredError\n",
        "lstm_model = load_model(\n",
        "    f\"/content/drive/MyDrive/PBL2_filestrained_lstm_model.h5\",\n",
        "    custom_objects={\"mse\": MeanSquaredError}\n",
        ")\n",
        "rf_model = joblib.load(f\"/content/drive/MyDrive/PBL2_filestrained_rf_model.pkl\")\n",
        "scaler_lstm = joblib.load(f\"/content/drive/MyDrive/PBL2_filesscaler_lstm.pkl\")\n",
        "scaler_rf = joblib.load(f\"/content/drive/MyDrive/PBL2_filesscaler_rf.pkl\")\n"
      ],
      "metadata": {
        "colab": {
          "base_uri": "https://localhost:8080/"
        },
        "id": "jh4lvbedGcqq",
        "outputId": "41d6e560-0fd6-448e-90ae-2525c9451046"
      },
      "execution_count": null,
      "outputs": [
        {
          "output_type": "stream",
          "name": "stderr",
          "text": [
            "WARNING:absl:Compiled the loaded model, but the compiled metrics have yet to be built. `model.compile_metrics` will be empty until you train or evaluate the model.\n"
          ]
        }
      ]
    },
    {
      "cell_type": "code",
      "source": [
        "pollutants = ['Ozone', 'SO2', 'NO2', 'PM10', 'PM2.5']\n",
        "user_input = []\n",
        "\n",
        "print(\"📥 Enter pollutant values for 3 consecutive days:\")\n",
        "for day in range(3):\n",
        "    day_data = []\n",
        "    print(f\"\\nDay {day + 1}:\")\n",
        "    for pollutant in pollutants:\n",
        "        val = float(input(f\"  {pollutant}: \"))\n",
        "        day_data.append(val)\n",
        "    user_input.append(day_data)\n",
        "\n",
        "user_input = np.array(user_input).reshape(1, 3, 5)\n",
        "scaled_input = scaler_lstm.transform(user_input[0])\n",
        "scaled_input = scaled_input.reshape(1, 3, 5)"
      ],
      "metadata": {
        "colab": {
          "base_uri": "https://localhost:8080/"
        },
        "id": "ZIxbbu1RcoP5",
        "outputId": "a7e4216e-bb0f-47cd-e872-9e42db84c255"
      },
      "execution_count": null,
      "outputs": [
        {
          "name": "stdout",
          "output_type": "stream",
          "text": [
            "📥 Enter pollutant values for 3 consecutive days:\n",
            "\n",
            "Day 1:\n",
            "  Ozone: 30.5\n",
            "  SO2: 18\n",
            "  NO2: 40\n",
            "  PM10: 120\n",
            "  PM2.5: 85\n",
            "\n",
            "Day 2:\n",
            "  Ozone: 35.2\n",
            "  SO2: 22\n",
            "  NO2: 38\n",
            "  PM10: 125\n",
            "  PM2.5: 82\n",
            "\n",
            "Day 3:\n",
            "  Ozone: 33.7\n",
            "  SO2: 20\n",
            "  NO2: 36\n",
            "  PM10: 128\n",
            "  PM2.5: 79\n"
          ]
        },
        {
          "output_type": "stream",
          "name": "stderr",
          "text": [
            "/usr/local/lib/python3.11/dist-packages/sklearn/utils/validation.py:2739: UserWarning: X does not have valid feature names, but MinMaxScaler was fitted with feature names\n",
            "  warnings.warn(\n"
          ]
        }
      ]
    },
    {
      "cell_type": "code",
      "source": [
        "future_scaled = lstm_model.predict(scaled_input)\n",
        "future_unscaled = scaler_lstm.inverse_transform(future_scaled)"
      ],
      "metadata": {
        "colab": {
          "base_uri": "https://localhost:8080/"
        },
        "id": "kG3mJOescxii",
        "outputId": "b2b0a319-2448-496c-bb80-8de3fc9c9dc1"
      },
      "execution_count": null,
      "outputs": [
        {
          "output_type": "stream",
          "name": "stdout",
          "text": [
            "\u001b[1m1/1\u001b[0m \u001b[32m━━━━━━━━━━━━━━━━━━━━\u001b[0m\u001b[37m\u001b[0m \u001b[1m0s\u001b[0m 490ms/step\n"
          ]
        }
      ]
    },
    {
      "cell_type": "code",
      "source": [
        "rf_input = scaler_rf.transform(future_unscaled)\n",
        "health_score = rf_model.predict(rf_input)"
      ],
      "metadata": {
        "colab": {
          "base_uri": "https://localhost:8080/"
        },
        "id": "iH8559tWc57P",
        "outputId": "5372ee79-f6ca-4e60-b8dd-29b66ddfd586"
      },
      "execution_count": null,
      "outputs": [
        {
          "output_type": "stream",
          "name": "stderr",
          "text": [
            "/usr/local/lib/python3.11/dist-packages/sklearn/utils/validation.py:2739: UserWarning: X does not have valid feature names, but StandardScaler was fitted with feature names\n",
            "  warnings.warn(\n"
          ]
        }
      ]
    },
    {
      "cell_type": "code",
      "source": [
        "print(\"\\n📊 Predicted Pollutants for Next Day:\")\n",
        "for i, pol in enumerate(pollutants):\n",
        "    print(f\"{pol}: {future_unscaled[0][i]:.2f}\")\n",
        "\n",
        "print(f\"\\n Predicted Health Impact Score: {health_score[0]:.2f}\")"
      ],
      "metadata": {
        "colab": {
          "base_uri": "https://localhost:8080/"
        },
        "id": "YD29JqPLc9MX",
        "outputId": "8ed3bd76-640e-49ae-f2dc-be4d60ef785a"
      },
      "execution_count": null,
      "outputs": [
        {
          "output_type": "stream",
          "name": "stdout",
          "text": [
            "\n",
            "📊 Predicted Pollutants for Next Day:\n",
            "Ozone: 33.54\n",
            "SO2: 19.04\n",
            "NO2: 36.97\n",
            "PM10: 129.24\n",
            "PM2.5: 74.55\n",
            "\n",
            " Predicted Health Impact Score: 71.33\n"
          ]
        }
      ]
    },
    {
      "cell_type": "code",
      "source": [
        "plt.figure(figsize=(8, 5))\n",
        "sns.barplot(x=pollutants, y=future_unscaled[0])\n",
        "plt.title(\"Predicted Pollutants for Next Day\")\n",
        "plt.ylabel(\"Pollutant Concentration\")\n",
        "plt.grid(True)\n",
        "plt.show()"
      ],
      "metadata": {
        "colab": {
          "base_uri": "https://localhost:8080/",
          "height": 468
        },
        "id": "VsrLJJ-xdECr",
        "outputId": "21a7e11e-f275-4ca4-dac1-f830fd9f0895"
      },
      "execution_count": null,
      "outputs": [
        {
          "output_type": "display_data",
          "data": {
            "text/plain": [
              "<Figure size 800x500 with 1 Axes>"
            ],
            "image/png": "[encoded data removed]"
          },
          "metadata": {}
        }
      ]
    },
    {
      "cell_type": "code",
      "source": [
        "plt.figure(figsize=(6, 1.5\n",
        "                    ))\n",
        "plt.text(0.5, 0.5, f'Predicted Health Impact Score: {health_score[0]:.2f}',\n",
        "         fontsize=14, ha='center', va='center', color='darkred', fontweight='bold')\n",
        "plt.axis('off')\n",
        "plt.show()"
      ],
      "metadata": {
        "colab": {
          "base_uri": "https://localhost:8080/",
          "height": 152
        },
        "id": "ZDV-aTr0dF9Y",
        "outputId": "ce255ec7-eb72-4d9a-e9c4-bab94196156e"
      },
      "execution_count": null,
      "outputs": [
        {
          "output_type": "display_data",
          "data": {
            "text/plain": [
              "<Figure size 600x150 with 1 Axes>"
            ],
            "image/png": "[encoded data removed]"
          },
          "metadata": {}
        }
      ]
    },
    {
      "cell_type": "code",
      "source": [
        "########"
      ],
      "metadata": {
        "id": "UgQnPCD1dHK2"
      },
      "execution_count": null,
      "outputs": []
    }
  ]
}